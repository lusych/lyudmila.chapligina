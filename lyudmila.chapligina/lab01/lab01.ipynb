{
 "cells": [
  {
   "cell_type": "code",
   "execution_count": 1,
   "id": "dc60a8d0-7870-4fec-bdd5-874bae969f14",
   "metadata": {},
   "outputs": [
    {
     "name": "stderr",
     "output_type": "stream",
     "text": [
      "https://repos.spark-packages.org/ added as a remote repository with the name: repo-1\n",
      "Ivy Default Cache set to: /data/home/lyudmila.chapligina/.ivy2/cache\n",
      "The jars for the packages stored in: /data/home/lyudmila.chapligina/.ivy2/jars\n",
      "org.apache.spark#spark-sql-kafka-0-10_2.12 added as a dependency\n",
      ":: resolving dependencies :: org.apache.spark#spark-submit-parent-12a145f5-b9cc-4628-b917-d78e0d7240a0;1.0\n",
      "\tconfs: [default]\n"
     ]
    },
    {
     "name": "stdout",
     "output_type": "stream",
     "text": [
      ":: loading settings :: url = jar:file:/opt/spark-3.4.3/jars/ivy-2.5.1.jar!/org/apache/ivy/core/settings/ivysettings.xml\n"
     ]
    },
    {
     "name": "stderr",
     "output_type": "stream",
     "text": [
      "\tfound org.apache.spark#spark-sql-kafka-0-10_2.12;3.4.3 in central\n",
      "\tfound org.apache.spark#spark-token-provider-kafka-0-10_2.12;3.4.3 in central\n",
      "\tfound org.apache.kafka#kafka-clients;3.3.2 in central\n",
      "\tfound org.lz4#lz4-java;1.8.0 in central\n",
      "\tfound org.xerial.snappy#snappy-java;1.1.10.5 in central\n",
      "\tfound org.slf4j#slf4j-api;2.0.6 in central\n",
      "\tfound org.apache.hadoop#hadoop-client-runtime;3.3.4 in central\n",
      "\tfound org.apache.hadoop#hadoop-client-api;3.3.4 in central\n",
      "\tfound commons-logging#commons-logging;1.1.3 in central\n",
      "\tfound com.google.code.findbugs#jsr305;3.0.0 in central\n",
      "\tfound org.apache.commons#commons-pool2;2.11.1 in central\n",
      ":: resolution report :: resolve 423ms :: artifacts dl 12ms\n",
      "\t:: modules in use:\n",
      "\tcom.google.code.findbugs#jsr305;3.0.0 from central in [default]\n",
      "\tcommons-logging#commons-logging;1.1.3 from central in [default]\n",
      "\torg.apache.commons#commons-pool2;2.11.1 from central in [default]\n",
      "\torg.apache.hadoop#hadoop-client-api;3.3.4 from central in [default]\n",
      "\torg.apache.hadoop#hadoop-client-runtime;3.3.4 from central in [default]\n",
      "\torg.apache.kafka#kafka-clients;3.3.2 from central in [default]\n",
      "\torg.apache.spark#spark-sql-kafka-0-10_2.12;3.4.3 from central in [default]\n",
      "\torg.apache.spark#spark-token-provider-kafka-0-10_2.12;3.4.3 from central in [default]\n",
      "\torg.lz4#lz4-java;1.8.0 from central in [default]\n",
      "\torg.slf4j#slf4j-api;2.0.6 from central in [default]\n",
      "\torg.xerial.snappy#snappy-java;1.1.10.5 from central in [default]\n",
      "\t---------------------------------------------------------------------\n",
      "\t|                  |            modules            ||   artifacts   |\n",
      "\t|       conf       | number| search|dwnlded|evicted|| number|dwnlded|\n",
      "\t---------------------------------------------------------------------\n",
      "\t|      default     |   11  |   0   |   0   |   0   ||   11  |   0   |\n",
      "\t---------------------------------------------------------------------\n",
      ":: retrieving :: org.apache.spark#spark-submit-parent-12a145f5-b9cc-4628-b917-d78e0d7240a0\n",
      "\tconfs: [default]\n",
      "\t0 artifacts copied, 11 already retrieved (0kB/8ms)\n",
      "25/08/20 16:01:05 WARN util.Utils: Service 'SparkUI' could not bind on port 4040. Attempting port 4041.\n",
      "25/08/20 16:01:05 WARN util.Utils: Service 'SparkUI' could not bind on port 4041. Attempting port 4042.\n",
      "25/08/20 16:01:05 WARN util.Utils: Service 'SparkUI' could not bind on port 4042. Attempting port 4043.\n",
      "25/08/20 16:01:07 WARN yarn.Client: Neither spark.yarn.jars nor spark.yarn.archive is set, falling back to uploading libraries under SPARK_HOME.\n",
      "25/08/20 16:01:12 WARN yarn.Client: Same path resource file:///data/home/lyudmila.chapligina/.ivy2/jars/org.apache.spark_spark-sql-kafka-0-10_2.12-3.4.3.jar added multiple times to distributed cache.\n",
      "25/08/20 16:01:12 WARN yarn.Client: Same path resource file:///data/home/lyudmila.chapligina/.ivy2/jars/org.apache.spark_spark-token-provider-kafka-0-10_2.12-3.4.3.jar added multiple times to distributed cache.\n",
      "25/08/20 16:01:12 WARN yarn.Client: Same path resource file:///data/home/lyudmila.chapligina/.ivy2/jars/org.apache.kafka_kafka-clients-3.3.2.jar added multiple times to distributed cache.\n",
      "25/08/20 16:01:12 WARN yarn.Client: Same path resource file:///data/home/lyudmila.chapligina/.ivy2/jars/com.google.code.findbugs_jsr305-3.0.0.jar added multiple times to distributed cache.\n",
      "25/08/20 16:01:12 WARN yarn.Client: Same path resource file:///data/home/lyudmila.chapligina/.ivy2/jars/org.apache.commons_commons-pool2-2.11.1.jar added multiple times to distributed cache.\n",
      "25/08/20 16:01:12 WARN yarn.Client: Same path resource file:///data/home/lyudmila.chapligina/.ivy2/jars/org.apache.hadoop_hadoop-client-runtime-3.3.4.jar added multiple times to distributed cache.\n",
      "25/08/20 16:01:12 WARN yarn.Client: Same path resource file:///data/home/lyudmila.chapligina/.ivy2/jars/org.lz4_lz4-java-1.8.0.jar added multiple times to distributed cache.\n",
      "25/08/20 16:01:12 WARN yarn.Client: Same path resource file:///data/home/lyudmila.chapligina/.ivy2/jars/org.xerial.snappy_snappy-java-1.1.10.5.jar added multiple times to distributed cache.\n",
      "25/08/20 16:01:12 WARN yarn.Client: Same path resource file:///data/home/lyudmila.chapligina/.ivy2/jars/org.slf4j_slf4j-api-2.0.6.jar added multiple times to distributed cache.\n",
      "25/08/20 16:01:12 WARN yarn.Client: Same path resource file:///data/home/lyudmila.chapligina/.ivy2/jars/org.apache.hadoop_hadoop-client-api-3.3.4.jar added multiple times to distributed cache.\n",
      "25/08/20 16:01:12 WARN yarn.Client: Same path resource file:///data/home/lyudmila.chapligina/.ivy2/jars/commons-logging_commons-logging-1.1.3.jar added multiple times to distributed cache.\n"
     ]
    }
   ],
   "source": [
    "import findspark\n",
    "findspark.init('/opt/spark-3.4.3/')\n",
    "\n",
    "import pyspark\n",
    "\n",
    "from pyspark.sql import SparkSession\n",
    "from pyspark.sql import functions as F\n",
    "from pyspark.sql.types import *\n",
    "from pyspark import Row\n",
    "import json\n",
    "\n",
    "from pyspark.sql import SparkSession\n",
    "spark = SparkSession.builder.appName(\"demo\").getOrCreate()"
   ]
  },
  {
   "cell_type": "code",
   "execution_count": 3,
   "id": "64c2003b-c6e1-4ec3-9910-2a6cbce15e21",
   "metadata": {},
   "outputs": [],
   "source": [
    "# путь к файлу\n",
    "file_path = \"lab01/u.data\"\n",
    "\n",
    "# чтение файла вручную\n",
    "rows = []\n",
    "with open(file_path, 'r') as file:\n",
    "    for line in file:\n",
    "        user_id, item_id, rating, timestamp = map(int, line.strip().split('\\t'))\n",
    "        rows.append((rating, item_id)) # отбираем только нужные столбцы"
   ]
  },
  {
   "cell_type": "code",
   "execution_count": 4,
   "id": "ba85b7cc-5439-411c-85a3-8de995d30118",
   "metadata": {},
   "outputs": [],
   "source": [
    "# cоздание RDD из списка кортежей\n",
    "rdd = spark.sparkContext.parallelize(rows)"
   ]
  },
  {
   "cell_type": "code",
   "execution_count": 5,
   "id": "665c5765-da01-4dd2-b048-b89d674e1437",
   "metadata": {},
   "outputs": [],
   "source": [
    "def count_rating(rdd): # cчитаем кол-во оценок для всех фильмов\n",
    "    hist = rdd\\\n",
    "    .map(lambda pair: (pair[0], 1))\\\n",
    "    .reduceByKey(lambda x, y: x + y)\\\n",
    "    .collect()\n",
    "    \n",
    "    hist = sorted(hist, key=lambda x: x[0]) # cортируем по оценкам 1-5\n",
    "    \n",
    "    return [x[1] for x in hist] # последовательность количества оценок 1-5"
   ]
  },
  {
   "cell_type": "code",
   "execution_count": 6,
   "id": "4f6e07e1-e017-467a-8716-50bd0501673f",
   "metadata": {},
   "outputs": [],
   "source": [
    "rdd_318 = rdd.filter(lambda x: x[1]==318) # фильтруем датасет по id фильма как в задании"
   ]
  },
  {
   "cell_type": "code",
   "execution_count": 7,
   "id": "0a6d3942-c2b4-4422-83b0-336fb70b72c8",
   "metadata": {},
   "outputs": [
    {
     "name": "stderr",
     "output_type": "stream",
     "text": [
      "                                                                                \r"
     ]
    }
   ],
   "source": [
    "# создаем структуру для записи в json\n",
    "lab01_dict = {\n",
    "    \"hist_film\": count_rating(rdd_318),\n",
    "    \"hist_all\": count_rating(rdd)\n",
    "}"
   ]
  },
  {
   "cell_type": "code",
   "execution_count": 8,
   "id": "ca94f6e9-ecb8-4df2-8395-fe35dabc5227",
   "metadata": {},
   "outputs": [],
   "source": [
    "# записываем в json\n",
    "output = \"lab01/lab01.json\"\n",
    "with open(output, \"w\") as f:\n",
    "    json.dump(lab01_dict, f, indent=4)"
   ]
  }
 ],
 "metadata": {
  "kernelspec": {
   "display_name": "Python 3 (ipykernel)",
   "language": "python",
   "name": "python3"
  },
  "language_info": {
   "codemirror_mode": {
    "name": "ipython",
    "version": 3
   },
   "file_extension": ".py",
   "mimetype": "text/x-python",
   "name": "python",
   "nbconvert_exporter": "python",
   "pygments_lexer": "ipython3",
   "version": "3.12.4"
  }
 },
 "nbformat": 4,
 "nbformat_minor": 5
}
